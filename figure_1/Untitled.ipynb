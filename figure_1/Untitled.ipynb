{
 "cells": [
  {
   "cell_type": "code",
   "execution_count": 1,
   "metadata": {
    "collapsed": true
   },
   "outputs": [],
   "source": [
    "import pandas as pd"
   ]
  },
  {
   "cell_type": "code",
   "execution_count": 2,
   "metadata": {
    "collapsed": true
   },
   "outputs": [],
   "source": [
    "input_data = pd.read_csv('fig_1C_S1D_data.csv')"
   ]
  },
  {
   "cell_type": "code",
   "execution_count": 4,
   "metadata": {},
   "outputs": [
    {
     "data": {
      "text/plain": [
       "array(['controls_w5447.laser.35_noyfp_0_minusbest_1_t0.tif',\n",
       "       'controls_w5447.laser.35_noyfp_0_minusbest_2_t0.tif',\n",
       "       'timelapse_w5447.laser.35_yfp15_50_minusbest_5_t1.tif',\n",
       "       'timelapse_w5447.laser.35_yfp15_50_minusbest_5_t2.tif',\n",
       "       'timelapse_w5447.laser.35_yfp15_50_minusbest_5_t3.tif',\n",
       "       'timelapse_w5447.laser.35_yfp15_50_minusbest_3_t1.tif',\n",
       "       'timelapse_w5447.laser.35_yfp15_50_minusbest_3_t2.tif',\n",
       "       'timelapse_w5447.laser.35_yfp15_50_minusbest_3_t3.tif',\n",
       "       'timelapse_w5447.laser.35_yfp15_50_plusbest_5_t1.tif',\n",
       "       'timelapse_w5447.laser.35_yfp15_50_minusbest_4_t1.tif',\n",
       "       'timelapse_w5447.laser.35_yfp15_50_minusbest_4_t2.tif',\n",
       "       'timelapse_w5447.laser.35_yfp15_50_minusbest_4_t3.tif',\n",
       "       'timelapse_w5447.laser.35_yfp15_50_plusbest_1_t1.tif',\n",
       "       'timelapse_w5447.laser.35_yfp15_50_minusbest_2_t1.tif',\n",
       "       'timelapse_w5447.laser.35_yfp15_50_plusbest_5_t2.tif',\n",
       "       'timelapse_w5447.laser.35_yfp15_50_plusbest_5_t3.tif',\n",
       "       'timelapse_w5447.laser.35_yfp15_50_plusbest_1_t2.tif',\n",
       "       'timelapse_w5447.laser.35_yfp15_50_plusbest_1_t3.tif',\n",
       "       'timelapse_w5447.laser.35_yfp15_50_plusbest_2_t1.tif',\n",
       "       'timelapse_w5447.laser.35_yfp15_50_plusbest_2_t2.tif',\n",
       "       'timelapse_w5447.laser.35_yfp15_50_plusbest_2_t3.tif',\n",
       "       'timelapse_w5447.laser.35_yfp15_50_minusbest_2_t2.tif',\n",
       "       'timelapse_w5447.laser.35_yfp15_50_minusbest_2_t3.tif',\n",
       "       'timelapse_w5447.laser.35_yfp15_50_plusbest_3_t1.tif',\n",
       "       'timelapse_w5447.laser.35_yfp15_50_plusbest_3_t2.tif',\n",
       "       'timelapse_w5447.laser.35_yfp15_50_plusbest_3_t3.tif',\n",
       "       'timelapse_w5447.laser.35_yfp15_50_plusbest_4_t1.tif',\n",
       "       'timelapse_w5447.laser.35_yfp15_50_plusbest_4_t2.tif',\n",
       "       'timelapse_w5447.laser.35_yfp15_50_plusbest_4_t3.tif',\n",
       "       'controls_w5447.laser.35_noyfp_0_minusbest_3_t0.tif',\n",
       "       'controls_w5447.laser.35_noyfp_0_minusbest_4_t0.tif',\n",
       "       'controls_w5447.laser.35_noyfp_0_minusbest_5_t0.tif',\n",
       "       'controls_w5447.laser.35_noyfp_0_minusbest_6_t0.tif',\n",
       "       'timelapse_w5447.laser.35_yfp15_50_minusbest_1_t1.tif',\n",
       "       'timelapse_w5447.laser.35_yfp15_50_minusbest_1_t2.tif',\n",
       "       'timelapse_w5447.laser.35_yfp15_50_minusbest_1_t3.tif'], dtype=object)"
      ]
     },
     "execution_count": 4,
     "metadata": {},
     "output_type": "execute_result"
    }
   ],
   "source": [
    "input_data.img.unique()"
   ]
  },
  {
   "cell_type": "code",
   "execution_count": null,
   "metadata": {
    "collapsed": true
   },
   "outputs": [],
   "source": []
  }
 ],
 "metadata": {
  "kernelspec": {
   "display_name": "Python 3",
   "language": "python",
   "name": "python3"
  },
  "language_info": {
   "codemirror_mode": {
    "name": "ipython",
    "version": 3
   },
   "file_extension": ".py",
   "mimetype": "text/x-python",
   "name": "python",
   "nbconvert_exporter": "python",
   "pygments_lexer": "ipython3",
   "version": "3.6.1"
  }
 },
 "nbformat": 4,
 "nbformat_minor": 2
}
